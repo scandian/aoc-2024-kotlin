{
 "cells": [
  {
   "cell_type": "code",
   "metadata": {
    "collapsed": true,
    "ExecuteTime": {
     "end_time": "2024-12-15T10:40:54.151068Z",
     "start_time": "2024-12-15T10:40:53.665777Z"
    }
   },
   "source": [
    "%use adventOfCode\n",
    "\n",
    "import com.toldoven.aoc.notebook.AocClient\n",
    "val aoc = AocClient.fromFile().interactiveDay(2024, 14)"
   ],
   "outputs": [],
   "execution_count": 1
  },
  {
   "metadata": {
    "ExecuteTime": {
     "end_time": "2024-12-15T10:40:54.204085Z",
     "start_time": "2024-12-15T10:40:54.160302Z"
    }
   },
   "cell_type": "code",
   "source": [
    "val testInput = \"\"\"\n",
    "        p=0,4 v=3,-3\n",
    "        p=6,3 v=-1,-3\n",
    "        p=10,3 v=-1,2\n",
    "        p=2,0 v=2,-1\n",
    "        p=0,0 v=1,3\n",
    "        p=3,0 v=-2,-2\n",
    "        p=7,6 v=-1,-3\n",
    "        p=3,0 v=-1,-2\n",
    "        p=9,3 v=2,3\n",
    "        p=7,3 v=-1,2\n",
    "        p=2,4 v=2,-3\n",
    "        p=9,5 v=-3,-3\n",
    "        \"\"\".trimIndent().lines()"
   ],
   "outputs": [],
   "execution_count": 2
  },
  {
   "metadata": {
    "ExecuteTime": {
     "end_time": "2024-12-15T10:40:54.548486Z",
     "start_time": "2024-12-15T10:40:54.206683Z"
    }
   },
   "cell_type": "code",
   "source": [
    "val testRangeX = 0..<11\n",
    "val testRangeY = 0..<7\n",
    "\n",
    "val rangeX = 0..<101\n",
    "val rangeY = 0..<103\n",
    "\n",
    "data class Space(val xRange: IntRange, val yRange: IntRange) {\n",
    "    val sizeX = xRange.last - xRange.first + 1\n",
    "    val sizeY = yRange.last - yRange.first + 1\n",
    "\n",
    "    infix operator fun contains(p: Vec2) = p.x in xRange && p.y in yRange\n",
    "}\n",
    "\n",
    "data class Vec2(val x: Int, val y: Int) {\n",
    "    infix operator fun plus(o: Vec2) = Vec2(x+o.x, y+o.y)\n",
    "    infix operator fun minus(o: Vec2) = Vec2(x-o.x, y-o.y)\n",
    "    infix operator fun times(i: Int) = Vec2(i*x, i*y)\n",
    "}\n",
    "\n",
    "val regex = \"\"\"\\bp=(?<px>\\d+),(?<py>\\d+) v=(?<vx>-?\\d+),(?<vy>-?\\d+)\\b\"\"\".toRegex()\n",
    "\n",
    "fun List<String>.parse() = map {\n",
    "    val (px, py, vx, vy) = regex.find(it)?.destructured ?: error(\"No match\")\n",
    "    Pair(Vec2(px.toInt(),py.toInt()), Vec2(vx.toInt(),vy.toInt()))\n",
    "}"
   ],
   "outputs": [],
   "execution_count": 3
  },
  {
   "metadata": {
    "ExecuteTime": {
     "end_time": "2024-12-15T15:01:37.030887Z",
     "start_time": "2024-12-15T15:01:36.880179Z"
    }
   },
   "cell_type": "code",
   "source": [
    "typealias Robot = Pair<Vec2, Vec2>\n",
    "\n",
    "fun Robot.afterSecondsInSpace(k: Int, s: Space): Vec2 {\n",
    "    val p = this.first\n",
    "    val v = this.second\n",
    "\n",
    "    val px = ((p.x + k*v.x)%s.sizeX + s.sizeX)%s.sizeX\n",
    "    val py = ((p.y + k*v.y)%s.sizeY + s.sizeY)%s.sizeY\n",
    "    return Vec2(px, py)\n",
    "}\n",
    "\n",
    "fun List<Robot>.afterSecondsInSpace(seconds: Int, space: Space) = map {\n",
    "    Pair(it.afterSecondsInSpace(seconds, space), it.second)\n",
    "}\n",
    "\n",
    "fun Space.quadrants() = listOf (\n",
    "    Space(0..<this.sizeX/2, 0..<this.sizeY/2), // Top Left\n",
    "    Space(this.sizeX/2+1..this.xRange.last, 0..<this.sizeY/2), // Top Right\n",
    "    Space(0..<this.sizeX/2, this.sizeY/2+1..this.yRange.last), // Bottom Left\n",
    "    Space(this.sizeX/2+1..this.xRange.last, this.sizeY/2+1..this.yRange.last) // Bottom Right\n",
    ")\n",
    "\n",
    "fun List<Robot>.safetyFactor(s: Space): Int = filter { (pos, _) -> s.quadrants().any { pos in it } }.groupBy { (pos, _) -> s.quadrants().first { pos in it } }.map { (_, list) -> list.size }.reduce { a, b -> a * b }"
   ],
   "outputs": [],
   "execution_count": 19
  },
  {
   "metadata": {
    "ExecuteTime": {
     "end_time": "2024-12-15T10:40:54.818144Z",
     "start_time": "2024-12-15T10:40:54.782847Z"
    }
   },
   "cell_type": "code",
   "source": [
    "val test = testInput.parse()\n",
    "val testSpace = Space(testRangeX, testRangeY)\n",
    "val testUpdate = test.afterSecondsInSpace(100, testSpace)"
   ],
   "outputs": [],
   "execution_count": 5
  },
  {
   "metadata": {
    "ExecuteTime": {
     "end_time": "2024-12-15T10:40:54.858960Z",
     "start_time": "2024-12-15T10:40:54.823199Z"
    }
   },
   "cell_type": "code",
   "source": "testUpdate.safetyFactor(testSpace)",
   "outputs": [
    {
     "data": {
      "text/plain": [
       "12"
      ]
     },
     "execution_count": 6,
     "metadata": {},
     "output_type": "execute_result"
    }
   ],
   "execution_count": 6
  },
  {
   "metadata": {
    "ExecuteTime": {
     "end_time": "2024-12-15T10:40:54.959012Z",
     "start_time": "2024-12-15T10:40:54.915292Z"
    }
   },
   "cell_type": "code",
   "source": [
    "val space = Space(rangeX, rangeY)\n",
    "val robots = aoc.input().lines().parse()\n",
    "val update = robots.afterSecondsInSpace(100, space)\n",
    "val part1 = update.safetyFactor(space)"
   ],
   "outputs": [],
   "execution_count": 7
  },
  {
   "metadata": {
    "ExecuteTime": {
     "end_time": "2024-12-15T10:40:55.577356Z",
     "start_time": "2024-12-15T10:40:54.962982Z"
    }
   },
   "cell_type": "code",
   "source": "aoc.submitPartOne(part1)",
   "outputs": [
    {
     "data": {
      "text/html": [
       "<p>The answer is correct!</p><p>Your answer: 224969976</p><small>You already completed this part.</small>"
      ]
     },
     "execution_count": 8,
     "metadata": {},
     "output_type": "execute_result"
    }
   ],
   "execution_count": 8
  },
  {
   "metadata": {
    "ExecuteTime": {
     "end_time": "2024-12-15T15:01:41.498242Z",
     "start_time": "2024-12-15T15:01:41.454917Z"
    }
   },
   "cell_type": "code",
   "source": [
    "fun List<Robot>.updateInSpaceUntil(space: Space, predicate: (List<Robot>) -> Boolean): Int {\n",
    "    var update = this.afterSecondsInSpace(1, space)\n",
    "    var seconds = 1\n",
    "    while (!predicate(update)) {\n",
    "        update = update.afterSecondsInSpace(1, space)\n",
    "        seconds++\n",
    "    }\n",
    "    return seconds\n",
    "}"
   ],
   "outputs": [],
   "execution_count": 20
  },
  {
   "metadata": {
    "ExecuteTime": {
     "end_time": "2024-12-15T15:01:45.248624Z",
     "start_time": "2024-12-15T15:01:45.205161Z"
    }
   },
   "cell_type": "code",
   "source": [
    "fun List<Robot>.isChristmasTree(): Boolean =\n",
    "    distinctBy { (pos, _) -> pos.x to pos.y }.size == size"
   ],
   "outputs": [],
   "execution_count": 21
  },
  {
   "metadata": {
    "ExecuteTime": {
     "end_time": "2024-12-15T15:02:43.029513Z",
     "start_time": "2024-12-15T15:02:42.754398Z"
    }
   },
   "cell_type": "code",
   "source": [
    "val part2 = robots.updateInSpaceUntil(space) { it.isChristmasTree() }\n",
    "part2"
   ],
   "outputs": [
    {
     "data": {
      "text/plain": [
       "7892"
      ]
     },
     "execution_count": 23,
     "metadata": {},
     "output_type": "execute_result"
    }
   ],
   "execution_count": 23
  },
  {
   "metadata": {
    "ExecuteTime": {
     "end_time": "2024-12-15T10:42:38.523068Z",
     "start_time": "2024-12-15T10:42:37.815085Z"
    }
   },
   "cell_type": "code",
   "source": "aoc.submitPartTwo(part2)",
   "outputs": [
    {
     "data": {
      "text/html": [
       "<p>The answer is correct!</p><p>Your answer: 7892</p><small>You already completed this part.</small>"
      ]
     },
     "execution_count": 14,
     "metadata": {},
     "output_type": "execute_result"
    }
   ],
   "execution_count": 14
  },
  {
   "metadata": {
    "ExecuteTime": {
     "end_time": "2024-12-15T10:42:48.722238Z",
     "start_time": "2024-12-15T10:42:48.691713Z"
    }
   },
   "cell_type": "code",
   "source": [
    "val tree = robots.afterSecondsInSpace(part2, space)\n",
    "\n"
   ],
   "outputs": [],
   "execution_count": 15
  }
 ],
 "metadata": {
  "kernelspec": {
   "display_name": "Kotlin",
   "language": "kotlin",
   "name": "kotlin"
  },
  "language_info": {
   "name": "kotlin",
   "version": "1.9.23",
   "mimetype": "text/x-kotlin",
   "file_extension": ".kt",
   "pygments_lexer": "kotlin",
   "codemirror_mode": "text/x-kotlin",
   "nbconvert_exporter": ""
  },
  "ktnbPluginMetadata": {
   "projectLibraries": false
  }
 },
 "nbformat": 4,
 "nbformat_minor": 0
}
