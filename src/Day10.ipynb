{
 "cells": [
  {
   "cell_type": "code",
   "metadata": {
    "collapsed": true,
    "ExecuteTime": {
     "end_time": "2024-12-10T14:48:15.528409Z",
     "start_time": "2024-12-10T14:48:15.123304Z"
    }
   },
   "source": [
    "@file:DependsOn(\"com.toldoven.aoc:aoc-kotlin-notebook:1.1.2\")\n",
    "\n",
    "import com.toldoven.aoc.notebook.AocClient"
   ],
   "outputs": [],
   "execution_count": 1
  },
  {
   "metadata": {
    "ExecuteTime": {
     "end_time": "2024-12-10T14:48:15.598893Z",
     "start_time": "2024-12-10T14:48:15.532212Z"
    }
   },
   "cell_type": "code",
   "source": "val aoc = AocClient.fromFile().interactiveDay(2024, 10)",
   "outputs": [],
   "execution_count": 2
  },
  {
   "metadata": {
    "ExecuteTime": {
     "end_time": "2024-12-10T14:48:15.635351Z",
     "start_time": "2024-12-10T14:48:15.603066Z"
    }
   },
   "cell_type": "code",
   "source": "val input = aoc.input()",
   "outputs": [],
   "execution_count": 3
  },
  {
   "metadata": {
    "ExecuteTime": {
     "end_time": "2024-12-10T14:48:16.091754Z",
     "start_time": "2024-12-10T14:48:15.638291Z"
    }
   },
   "cell_type": "code",
   "source": [
    "enum class Direction(val x: Int, val y: Int) {\n",
    "    UP(0, -1), DOWN(0, 1), LEFT(-1, 0), RIGHT(1, 0)\n",
    "}\n",
    "\n",
    "data class Vec2(val x: Int, val y: Int) {\n",
    "    fun move(d: Direction) = Vec2(x + d.x, y + d.y)\n",
    "    fun around() = Direction.entries.map { move(it) }\n",
    "}\n",
    "\n",
    "class Grid(private val data: List<List<Int>>) {\n",
    "    val rangeX = 0..data[0].lastIndex\n",
    "    val rangeY = 0..data.lastIndex\n",
    "    val points = rangeY.flatMap { y -> rangeX.map { x -> Vec2(x, y) } }\n",
    "\n",
    "    operator fun contains(p: Vec2) = p.x in rangeX && p.y in rangeY\n",
    "    operator fun get(p: Vec2): Int = if (p in this) data[p.y][p.x] else error(\"Not a valid grid position\")\n",
    "}\n",
    "\n",
    "fun trailheads(grid: Grid): List<Vec2> {\n",
    "    return buildList<Vec2> {\n",
    "        addAll(grid.points.filter { grid[it] == 0 })\n",
    "    }\n",
    "}"
   ],
   "outputs": [],
   "execution_count": 4
  },
  {
   "metadata": {
    "ExecuteTime": {
     "end_time": "2024-12-10T14:48:16.163762Z",
     "start_time": "2024-12-10T14:48:16.095397Z"
    }
   },
   "cell_type": "code",
   "source": [
    "val example = \"\"\"89010123\n",
    "78121874\n",
    "87430965\n",
    "96549874\n",
    "45678903\n",
    "32019012\n",
    "01329801\n",
    "10456732\"\"\"\n",
    "\n",
    "val exampleGrid = Grid(example.lines().map { it.toCharArray().map { it.digitToInt() } })"
   ],
   "outputs": [],
   "execution_count": 5
  },
  {
   "metadata": {
    "ExecuteTime": {
     "end_time": "2024-12-10T14:48:16.246184Z",
     "start_time": "2024-12-10T14:48:16.167741Z"
    }
   },
   "cell_type": "code",
   "source": [
    "fun pathSections(grid: Grid): Map<Vec2, List<Vec2>> = buildMap {\n",
    "    grid.points.map { point -> put(point, point.around().filter { it in grid && grid[it] == grid[point] + 1 }) }\n",
    "}\n",
    "\n",
    "val examplePathSections = pathSections(exampleGrid)\n",
    "examplePathSections"
   ],
   "outputs": [
    {
     "data": {
      "text/plain": [
       "{Vec2(x=0, y=0)=[Vec2(x=1, y=0)], Vec2(x=1, y=0)=[], Vec2(x=2, y=0)=[Vec2(x=2, y=1), Vec2(x=3, y=0)], Vec2(x=3, y=0)=[Vec2(x=3, y=1)], Vec2(x=4, y=0)=[Vec2(x=4, y=1), Vec2(x=3, y=0), Vec2(x=5, y=0)], Vec2(x=5, y=0)=[Vec2(x=6, y=0)], Vec2(x=6, y=0)=[Vec2(x=7, y=0)], Vec2(x=7, y=0)=[Vec2(x=7, y=1)], Vec2(x=0, y=1)=[Vec2(x=0, y=0), Vec2(x=0, y=2), Vec2(x=1, y=1)], Vec2(x=1, y=1)=[Vec2(x=1, y=0)], Vec2(x=2, y=1)=[Vec2(x=3, y=1)], Vec2(x=3, y=1)=[Vec2(x=3, y=2)], Vec2(x=4, y=1)=[Vec2(x=3, y=1)], Vec2(x=5, y=1)=[Vec2(x=5, y=2)], Vec2(x=6, y=1)=[Vec2(x=5, y=1)], Vec2(x=7, y=1)=[Vec2(x=7, y=2)], Vec2(x=0, y=2)=[Vec2(x=0, y=3)], Vec2(x=1, y=2)=[Vec2(x=1, y=1), Vec2(x=0, y=2)], Vec2(x=2, y=2)=[Vec2(x=2, y=3)], Vec2(x=3, y=2)=[Vec2(x=3, y=3), Vec2(x=2, y=2)], Vec2(x=4, y=2)=[Vec2(x=4, y=1)], Vec2(x=5, y=2)=[], Vec2(x=6, y=2)=[Vec2(x=6, y=1), Vec2(x=6, y=3)], Vec2(x=7, y=2)=[Vec2(x=6, y=2)], Vec2(x=0, y=3)=[], Vec2(x=1, y=3)=[Vec2(x=1, y=2)], Vec2(x=2, y=3)=[Vec2(x=2, y=4), Vec2(x=1, y=3)], Vec2(x=3, y=3)=[Vec2(x=2, y=3)], Vec2(x=4, y=3)=[], Vec2(x=5, y=3)=[Vec2(x=5, y=2), Vec2(x=5, y=4), Vec2(x=4, y=3)], Vec2(x=6, y=3)=[Vec2(x=5, y=3)], Vec2(x=7, y=3)=[Vec2(x=7, y=2)], Vec2(x=0, y=4)=[Vec2(x=1, y=4)], Vec2(x=1, y=4)=[Vec2(x=1, y=3), Vec2(x=2, y=4)], Vec2(x=2, y=4)=[Vec2(x=3, y=4)], Vec2(x=3, y=4)=[Vec2(x=4, y=4)], Vec2(x=4, y=4)=[Vec2(x=4, y=3), Vec2(x=4, y=5), Vec2(x=5, y=4)], Vec2(x=5, y=4)=[], Vec2(x=6, y=4)=[Vec2(x=6, y=5)], Vec2(x=7, y=4)=[Vec2(x=7, y=3)], Vec2(x=0, y=5)=[Vec2(x=0, y=4)], Vec2(x=1, y=5)=[Vec2(x=0, y=5)], Vec2(x=2, y=5)=[Vec2(x=3, y=5)], Vec2(x=3, y=5)=[Vec2(x=3, y=6)], Vec2(x=4, y=5)=[], Vec2(x=5, y=5)=[Vec2(x=6, y=5)], Vec2(x=6, y=5)=[Vec2(x=7, y=5)], Vec2(x=7, y=5)=[Vec2(x=7, y=4)], Vec2(x=0, y=6)=[Vec2(x=0, y=7), Vec2(x=1, y=6)], Vec2(x=1, y=6)=[Vec2(x=1, y=5)], Vec2(x=2, y=6)=[Vec2(x=2, y=7)], Vec2(x=3, y=6)=[Vec2(x=2, y=6)], Vec2(x=4, y=6)=[], Vec2(x=5, y=6)=[Vec2(x=4, y=6)], Vec2(x=6, y=6)=[Vec2(x=6, y=5), Vec2(x=7, y=6)], Vec2(x=7, y=6)=[Vec2(x=7, y=5), Vec2(x=7, y=7)], Vec2(x=0, y=7)=[], Vec2(x=1, y=7)=[Vec2(x=1, y=6), Vec2(x=0, y=7)], Vec2(x=2, y=7)=[Vec2(x=3, y=7)], Vec2(x=3, y=7)=[Vec2(x=4, y=7)], Vec2(x=4, y=7)=[Vec2(x=5, y=7)], Vec2(x=5, y=7)=[Vec2(x=5, y=6)], Vec2(x=6, y=7)=[], Vec2(x=7, y=7)=[Vec2(x=6, y=7)]}"
      ]
     },
     "execution_count": 6,
     "metadata": {},
     "output_type": "execute_result"
    }
   ],
   "execution_count": 6
  },
  {
   "metadata": {
    "ExecuteTime": {
     "end_time": "2024-12-10T14:48:16.387687Z",
     "start_time": "2024-12-10T14:48:16.303360Z"
    }
   },
   "cell_type": "code",
   "source": [
    "fun findTrails(pathSections: Map<Vec2, List<Vec2>>, trailhead: Vec2): Set<Vec2> {\n",
    "    val visited = mutableSetOf<Vec2>()\n",
    "    val queue = ArrayDeque<Vec2>()\n",
    "    queue.add(trailhead)\n",
    "    while (queue.isNotEmpty()) {\n",
    "        val point = queue.removeFirst()\n",
    "        if (point !in visited) {\n",
    "            visited.add(point)\n",
    "            pathSections[point]?.let { walkable -> queue.addAll(walkable) }\n",
    "        }\n",
    "    }\n",
    "    return visited\n",
    "}"
   ],
   "outputs": [],
   "execution_count": 7
  },
  {
   "metadata": {
    "ExecuteTime": {
     "end_time": "2024-12-10T14:48:16.456771Z",
     "start_time": "2024-12-10T14:48:16.391243Z"
    }
   },
   "cell_type": "code",
   "source": [
    "val exampleTrailheads = trailheads(exampleGrid)\n",
    "val exampleScore = exampleTrailheads.map { findTrails(examplePathSections, it).filter { exampleGrid[it] == 9 }.count() }.sum()\n",
    "exampleScore"
   ],
   "outputs": [
    {
     "data": {
      "text/plain": [
       "36"
      ]
     },
     "execution_count": 8,
     "metadata": {},
     "output_type": "execute_result"
    }
   ],
   "execution_count": 8
  },
  {
   "metadata": {
    "ExecuteTime": {
     "end_time": "2024-12-10T14:48:16.568177Z",
     "start_time": "2024-12-10T14:48:16.513582Z"
    }
   },
   "cell_type": "code",
   "source": [
    "val inputGrid = Grid(input.lines().map { it.toCharArray().map { it.digitToInt() } })\n",
    "val trailheads = trailheads(inputGrid)\n",
    "val pathSections = pathSections(inputGrid)"
   ],
   "outputs": [],
   "execution_count": 9
  },
  {
   "metadata": {
    "ExecuteTime": {
     "end_time": "2024-12-10T14:48:16.622922Z",
     "start_time": "2024-12-10T14:48:16.572294Z"
    }
   },
   "cell_type": "code",
   "source": [
    "val score = trailheads.map { findTrails(pathSections, it).filter { inputGrid[it] == 9 }.count() }.sum()\n",
    "score"
   ],
   "outputs": [
    {
     "data": {
      "text/plain": [
       "548"
      ]
     },
     "execution_count": 10,
     "metadata": {},
     "output_type": "execute_result"
    }
   ],
   "execution_count": 10
  },
  {
   "metadata": {
    "ExecuteTime": {
     "end_time": "2024-12-10T14:48:17.672200Z",
     "start_time": "2024-12-10T14:48:16.680210Z"
    }
   },
   "cell_type": "code",
   "source": "aoc.submitPartOne(548)",
   "outputs": [
    {
     "data": {
      "text/html": [
       "<p>The answer is correct!</p><p>Your answer: 548</p><small>You already completed this part.</small>"
      ]
     },
     "execution_count": 11,
     "metadata": {},
     "output_type": "execute_result"
    }
   ],
   "execution_count": 11
  },
  {
   "metadata": {
    "ExecuteTime": {
     "end_time": "2024-12-10T14:49:45.284982Z",
     "start_time": "2024-12-10T14:49:45.209177Z"
    }
   },
   "cell_type": "code",
   "source": [
    "fun buildTrails(grid: Grid, trailhead: Vec2): Set<List<Vec2>> {\n",
    "    val trails = mutableSetOf<List<Vec2>>()\n",
    "    val incomplete = ArrayDeque<List<Vec2>>()\n",
    "    incomplete.add(listOf(trailhead))\n",
    "    while (incomplete.isNotEmpty()) {\n",
    "        val trail = incomplete.removeFirst()\n",
    "        val point = trail.last()\n",
    "        val height = grid[point]\n",
    "        if (height == 9) trails += trail\n",
    "        else incomplete += point.around().filter { it in grid && grid[it] == height + 1 }.map { trail + it }\n",
    "    }\n",
    "    return trails\n",
    "}"
   ],
   "outputs": [],
   "execution_count": 14
  },
  {
   "metadata": {
    "ExecuteTime": {
     "end_time": "2024-12-10T14:49:47.062003Z",
     "start_time": "2024-12-10T14:49:47.016373Z"
    }
   },
   "cell_type": "code",
   "source": [
    "val exampleRating = exampleTrailheads.sumOf { trailhead ->\n",
    "    buildTrails(exampleGrid, trailhead).count()\n",
    "}\n",
    "exampleRating"
   ],
   "outputs": [
    {
     "data": {
      "text/plain": [
       "81"
      ]
     },
     "execution_count": 15,
     "metadata": {},
     "output_type": "execute_result"
    }
   ],
   "execution_count": 15
  },
  {
   "metadata": {
    "ExecuteTime": {
     "end_time": "2024-12-10T14:50:23.268824Z",
     "start_time": "2024-12-10T14:50:23.216439Z"
    }
   },
   "cell_type": "code",
   "source": [
    "val rating = trailheads.sumOf { trailhead ->\n",
    "    buildTrails(inputGrid, trailhead).count()\n",
    "}\n",
    "rating"
   ],
   "outputs": [
    {
     "data": {
      "text/plain": [
       "1252"
      ]
     },
     "execution_count": 16,
     "metadata": {},
     "output_type": "execute_result"
    }
   ],
   "execution_count": 16
  },
  {
   "metadata": {
    "ExecuteTime": {
     "end_time": "2024-12-10T14:50:35.578090Z",
     "start_time": "2024-12-10T14:50:35.147175Z"
    }
   },
   "cell_type": "code",
   "source": "aoc.submitPartTwo(rating)",
   "outputs": [
    {
     "data": {
      "text/html": [
       "        <div>\n",
       "            <p>Your answer: 1252.</p>\n",
       "            <p>That's the right answer! You are <span class=\"day-success\">one gold star</span> closer to finding the Chief Historian.</p>\n",
       "<p>You have completed Day 10! You can <span class=\"share\">[Share<span class=\"share-content\">on <a href=\"https://bsky.app/intent/compose?text=I+just+completed+%22Hoof+It%22+%2D+Day+10+%2D+Advent+of+Code+2024+%23AdventOfCode+https%3A%2F%2Fadventofcode%2Ecom%2F2024%2Fday%2F10\" target=\"_blank\">Bluesky</a> <a href=\"https://twitter.com/intent/tweet?text=I+just+completed+%22Hoof+It%22+%2D+Day+10+%2D+Advent+of+Code+2024&amp;url=https%3A%2F%2Fadventofcode%2Ecom%2F2024%2Fday%2F10&amp;related=ericwastl&amp;hashtags=AdventOfCode\" target=\"_blank\">Twitter</a> <a href=\"javascript:void(0);\" onclick=\"var ms; try{ms=localStorage.getItem('mastodon.server')}finally{} if(typeof ms!=='string')ms=''; ms=prompt('Mastodon Server?',ms); if(typeof ms==='string' &amp;&amp; ms.length){this.href='https://'+ms+'/share?text=I+just+completed+%22Hoof+It%22+%2D+Day+10+%2D+Advent+of+Code+2024+%23AdventOfCode+https%3A%2F%2Fadventofcode%2Ecom%2F2024%2Fday%2F10';try{localStorage.setItem('mastodon.server',ms);}finally{}}else{return false;}\" target=\"_blank\">Mastodon</a></span>]</span> this victory or <a href=\"/2024\">[Return to Your Advent Calendar]</a>.</p>\n",
       "        </div>"
      ]
     },
     "execution_count": 17,
     "metadata": {},
     "output_type": "execute_result"
    }
   ],
   "execution_count": 17
  }
 ],
 "metadata": {
  "kernelspec": {
   "display_name": "Kotlin",
   "language": "kotlin",
   "name": "kotlin"
  },
  "language_info": {
   "name": "kotlin",
   "version": "1.9.23",
   "mimetype": "text/x-kotlin",
   "file_extension": ".kt",
   "pygments_lexer": "kotlin",
   "codemirror_mode": "text/x-kotlin",
   "nbconvert_exporter": ""
  }
 },
 "nbformat": 4,
 "nbformat_minor": 0
}
