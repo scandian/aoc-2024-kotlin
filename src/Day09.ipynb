{
 "cells": [
  {
   "cell_type": "code",
   "metadata": {
    "collapsed": true,
    "ExecuteTime": {
     "end_time": "2024-12-09T17:26:24.474470Z",
     "start_time": "2024-12-09T17:26:24.025377Z"
    }
   },
   "source": [
    "@file:DependsOn(\"com.toldoven.aoc:aoc-kotlin-notebook:1.1.2\")\n",
    "\n",
    "import com.toldoven.aoc.notebook.AocClient\n",
    "\n",
    "val aoc = AocClient.fromFile().interactiveDay(2024, 9)"
   ],
   "outputs": [],
   "execution_count": 1
  },
  {
   "metadata": {
    "ExecuteTime": {
     "end_time": "2024-12-10T08:31:15.200156Z",
     "start_time": "2024-12-10T08:31:13.295529Z"
    }
   },
   "cell_type": "code",
   "source": [
    "val input = aoc.input().toCharArray().map { it.digitToInt() }\n",
    "\n",
    "fun mapToBlocks(driveMap: List<Int>): List<Int?> {\n",
    "    return buildList {\n",
    "        driveMap.chunked(2).forEachIndexed{ fileId, chunk ->\n",
    "            val fileBlocks = chunk[0]\n",
    "            val spaceBlocks = if (chunk.size == 2) chunk[1] else 0\n",
    "            repeat(fileBlocks) {\n",
    "                add(fileId)\n",
    "            }\n",
    "            repeat(spaceBlocks) {\n",
    "                add(null)\n",
    "            }\n",
    "        }\n",
    "    }\n",
    "}\n",
    "\n",
    "fun checksum(blocks: List<Int?>): Long {\n",
    "    return blocks\n",
    "        .mapIndexed { index, fileId ->\n",
    "            fileId?.let { (index * fileId).toLong() } ?: 0\n",
    "        }.sum()\n",
    "}\n",
    "\n",
    "fun compact(blocks: List<Int?>): List<Int?> {\n",
    "    val _blocks = blocks.toMutableList()\n",
    "    var end = _blocks.lastIndex\n",
    "\n",
    "    for (index in _blocks.indices) {\n",
    "        if (index < end && _blocks[index] == null) {\n",
    "            val b = _blocks.indexOfLast { it != null }\n",
    "            _blocks[index] = _blocks[b]\n",
    "            _blocks[b] = null\n",
    "            end = b\n",
    "        }\n",
    "    }\n",
    "\n",
    "    return _blocks.toList()\n",
    "}\n",
    "\n",
    "val blocks = mapToBlocks(input)\n",
    "val checksum = checksum(compact(blocks))\n",
    "aoc.submitPartOne(checksum)"
   ],
   "outputs": [
    {
     "data": {
      "text/html": [
       "<p>The answer is correct!</p><p>Your answer: 6331212425418</p><small>You already completed this part.</small>"
      ]
     },
     "execution_count": 59,
     "metadata": {},
     "output_type": "execute_result"
    }
   ],
   "execution_count": 59
  }
 ],
 "metadata": {
  "kernelspec": {
   "display_name": "Kotlin",
   "language": "kotlin",
   "name": "kotlin"
  },
  "language_info": {
   "name": "kotlin",
   "version": "1.9.23",
   "mimetype": "text/x-kotlin",
   "file_extension": ".kt",
   "pygments_lexer": "kotlin",
   "codemirror_mode": "text/x-kotlin",
   "nbconvert_exporter": ""
  }
 },
 "nbformat": 4,
 "nbformat_minor": 0
}
