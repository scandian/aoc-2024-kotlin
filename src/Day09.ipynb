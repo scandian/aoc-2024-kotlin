{
 "cells": [
  {
   "cell_type": "code",
   "metadata": {
    "collapsed": true,
    "ExecuteTime": {
     "end_time": "2024-12-10T10:56:25.735630Z",
     "start_time": "2024-12-10T10:56:25.309687Z"
    }
   },
   "source": [
    "@file:DependsOn(\"com.toldoven.aoc:aoc-kotlin-notebook:1.1.2\")\n",
    "\n",
    "import com.toldoven.aoc.notebook.AocClient\n",
    "\n",
    "val aoc = AocClient.fromFile().interactiveDay(2024, 9)"
   ],
   "outputs": [],
   "execution_count": 1
  },
  {
   "metadata": {
    "ExecuteTime": {
     "end_time": "2024-12-10T10:56:30.024600Z",
     "start_time": "2024-12-10T10:56:27.894331Z"
    }
   },
   "cell_type": "code",
   "source": [
    "val input = aoc.input().toCharArray().map { it.digitToInt() }\n",
    "\n",
    "fun mapToBlocks(driveMap: List<Int>): List<Int?> {\n",
    "    return buildList {\n",
    "        driveMap.chunked(2).forEachIndexed{ fileId, chunk ->\n",
    "            val fileBlocks = chunk[0]\n",
    "            val spaceBlocks = if (chunk.size == 2) chunk[1] else 0\n",
    "            repeat(fileBlocks) {\n",
    "                add(fileId)\n",
    "            }\n",
    "            repeat(spaceBlocks) {\n",
    "                add(null)\n",
    "            }\n",
    "        }\n",
    "    }\n",
    "}\n",
    "\n",
    "fun checksum(blocks: List<Int?>): Long {\n",
    "    return blocks\n",
    "        .mapIndexed { index, fileId ->\n",
    "            fileId?.let { (index * fileId).toLong() } ?: 0\n",
    "        }.sum()\n",
    "}\n",
    "\n",
    "fun compact(blocks: List<Int?>): List<Int?> {\n",
    "    val _blocks = blocks.toMutableList()\n",
    "    var end = _blocks.lastIndex\n",
    "\n",
    "    for (index in _blocks.indices) {\n",
    "        if (index < end && _blocks[index] == null) {\n",
    "            val b = _blocks.indexOfLast { it != null }\n",
    "            _blocks[index] = _blocks[b]\n",
    "            _blocks[b] = null\n",
    "            end = b\n",
    "        }\n",
    "    }\n",
    "\n",
    "    return _blocks.toList()\n",
    "}\n",
    "\n",
    "val blocks = mapToBlocks(input)\n",
    "val checksum = checksum(compact(blocks))\n",
    "aoc.submitPartOne(checksum)"
   ],
   "outputs": [
    {
     "data": {
      "text/html": [
       "<p>The answer is correct!</p><p>Your answer: 6331212425418</p><small>You already completed this part.</small>"
      ]
     },
     "execution_count": 2,
     "metadata": {},
     "output_type": "execute_result"
    }
   ],
   "execution_count": 2
  },
  {
   "metadata": {
    "ExecuteTime": {
     "end_time": "2024-12-10T11:01:07.282559Z",
     "start_time": "2024-12-10T11:01:07.150591Z"
    }
   },
   "cell_type": "code",
   "source": [
    "data class FileDescriptor(val fileId: Int, val index: Int, val size: Int)\n",
    "\n",
    "fun mapToLayout(driveMap: List<Int>): Pair<List<FileDescriptor>, MutableList<Pair<Int, Int>>> {\n",
    "    val files = mutableListOf<FileDescriptor>() // fileId, index, size\n",
    "    val spaces = mutableListOf<Pair<Int, Int>>() // index of first block, size\n",
    "    var index = 0\n",
    "\n",
    "    driveMap.chunked(2).forEachIndexed { fileId, chunk ->\n",
    "        files.add(FileDescriptor(fileId, index, chunk[0]))\n",
    "        index += chunk[0]\n",
    "        if (chunk.size == 2) {\n",
    "            spaces.add(index to chunk[1])\n",
    "            index += chunk[1]\n",
    "        }\n",
    "    }\n",
    "    return Pair(files, spaces)\n",
    "}\n",
    "\n",
    "fun compactWhole(blocks: List<Int?>, driveMap: List<Int>): List<Int?> {\n",
    "    val _blocks = blocks.toMutableList()\n",
    "\n",
    "    val (files, spaces) = mapToLayout(driveMap)\n",
    "\n",
    "    fun move(file: FileDescriptor, spaceIndex: Int) {\n",
    "        val (newIndex, spaceSize) = spaces[spaceIndex]\n",
    "        for (i in newIndex..<newIndex+file.size) {\n",
    "            _blocks[i] = file.fileId\n",
    "        }\n",
    "        for (i in file.index..<file.index+file.size) {\n",
    "            _blocks[i] = null\n",
    "        }\n",
    "        if (file.size < spaceSize) {\n",
    "            spaces[spaceIndex] = newIndex+file.size to spaceSize - file.size\n",
    "        } else {\n",
    "            spaces.removeAt(spaceIndex)\n",
    "        }\n",
    "    }\n",
    "\n",
    "    for (file in files.reversed()) {\n",
    "        val newSpaceIndex = spaces.indexOfFirst { it.second >= file.size && it.first < file.index }\n",
    "        if (newSpaceIndex >= 0) {\n",
    "            move(file, newSpaceIndex)\n",
    "        }\n",
    "    }\n",
    "\n",
    "    return _blocks.toList()\n",
    "}\n",
    "val example = \"2333133121414131402\".toCharArray().map { it.digitToInt() }\n",
    "compactWhole(mapToBlocks(example), example)"
   ],
   "outputs": [
    {
     "data": {
      "text/plain": [
       "[0, 0, 9, 9, 2, 1, 1, 1, 7, 7, 7, null, 4, 4, null, 3, 3, 3, null, null, null, null, 5, 5, 5, 5, null, 6, 6, 6, 6, null, null, null, null, null, 8, 8, 8, 8, null, null]"
      ]
     },
     "execution_count": 7,
     "metadata": {},
     "output_type": "execute_result"
    }
   ],
   "execution_count": 7
  },
  {
   "metadata": {
    "ExecuteTime": {
     "end_time": "2024-12-10T11:03:17.234444Z",
     "start_time": "2024-12-10T11:03:17.019255Z"
    }
   },
   "cell_type": "code",
   "source": [
    "val check2 = checksum(compactWhole(blocks, input))\n",
    "check2"
   ],
   "outputs": [
    {
     "data": {
      "text/plain": [
       "6363268339304"
      ]
     },
     "execution_count": 8,
     "metadata": {},
     "output_type": "execute_result"
    }
   ],
   "execution_count": 8
  },
  {
   "metadata": {
    "ExecuteTime": {
     "end_time": "2024-12-10T11:03:37.702743Z",
     "start_time": "2024-12-10T11:03:37.247711Z"
    }
   },
   "cell_type": "code",
   "source": "aoc.submitPartTwo(check2)",
   "outputs": [
    {
     "data": {
      "text/html": [
       "        <div>\n",
       "            <p>Your answer: 6363268339304.</p>\n",
       "            <p>That's the right answer! You are <span class=\"day-success\">one gold star</span> closer to finding the Chief Historian.</p>\n",
       "<p>You have completed Day 9! You can <span class=\"share\">[Share<span class=\"share-content\">on <a href=\"https://bsky.app/intent/compose?text=I+just+completed+%22Disk+Fragmenter%22+%2D+Day+9+%2D+Advent+of+Code+2024+%23AdventOfCode+https%3A%2F%2Fadventofcode%2Ecom%2F2024%2Fday%2F9\" target=\"_blank\">Bluesky</a> <a href=\"https://twitter.com/intent/tweet?text=I+just+completed+%22Disk+Fragmenter%22+%2D+Day+9+%2D+Advent+of+Code+2024&amp;url=https%3A%2F%2Fadventofcode%2Ecom%2F2024%2Fday%2F9&amp;related=ericwastl&amp;hashtags=AdventOfCode\" target=\"_blank\">Twitter</a> <a href=\"javascript:void(0);\" onclick=\"var ms; try{ms=localStorage.getItem('mastodon.server')}finally{} if(typeof ms!=='string')ms=''; ms=prompt('Mastodon Server?',ms); if(typeof ms==='string' &amp;&amp; ms.length){this.href='https://'+ms+'/share?text=I+just+completed+%22Disk+Fragmenter%22+%2D+Day+9+%2D+Advent+of+Code+2024+%23AdventOfCode+https%3A%2F%2Fadventofcode%2Ecom%2F2024%2Fday%2F9';try{localStorage.setItem('mastodon.server',ms);}finally{}}else{return false;}\" target=\"_blank\">Mastodon</a></span>]</span> this victory or <a href=\"/2024\">[Return to Your Advent Calendar]</a>.</p>\n",
       "        </div>"
      ]
     },
     "execution_count": 9,
     "metadata": {},
     "output_type": "execute_result"
    }
   ],
   "execution_count": 9
  }
 ],
 "metadata": {
  "kernelspec": {
   "display_name": "Kotlin",
   "language": "kotlin",
   "name": "kotlin"
  },
  "language_info": {
   "name": "kotlin",
   "version": "1.9.23",
   "mimetype": "text/x-kotlin",
   "file_extension": ".kt",
   "pygments_lexer": "kotlin",
   "codemirror_mode": "text/x-kotlin",
   "nbconvert_exporter": ""
  }
 },
 "nbformat": 4,
 "nbformat_minor": 0
}
