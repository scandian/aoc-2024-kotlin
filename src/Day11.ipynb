{
 "cells": [
  {
   "cell_type": "code",
   "metadata": {
    "collapsed": true,
    "ExecuteTime": {
     "end_time": "2024-12-11T08:57:49.095136Z",
     "start_time": "2024-12-11T08:57:48.735553Z"
    }
   },
   "source": "@file:DependsOn(\"com.toldoven.aoc:aoc-kotlin-notebook:1.1.2\")",
   "outputs": [],
   "execution_count": 1
  },
  {
   "metadata": {
    "ExecuteTime": {
     "end_time": "2024-12-11T08:57:50.653131Z",
     "start_time": "2024-12-11T08:57:50.574270Z"
    }
   },
   "cell_type": "code",
   "source": [
    "import com.toldoven.aoc.notebook.AocClient\n",
    "\n",
    "val aoc = AocClient.fromFile().interactiveDay(2024, 11)"
   ],
   "outputs": [],
   "execution_count": 2
  },
  {
   "metadata": {
    "ExecuteTime": {
     "end_time": "2024-12-11T08:57:52.371376Z",
     "start_time": "2024-12-11T08:57:52.231603Z"
    }
   },
   "cell_type": "code",
   "source": "val input = aoc.input().split(\" \").map { it.toLong() }",
   "outputs": [],
   "execution_count": 3
  },
  {
   "metadata": {
    "ExecuteTime": {
     "end_time": "2024-12-11T08:57:54.797940Z",
     "start_time": "2024-12-11T08:57:54.753455Z"
    }
   },
   "cell_type": "code",
   "source": "input",
   "outputs": [
    {
     "data": {
      "text/plain": [
       "[6571, 0, 5851763, 526746, 23, 69822, 9, 989]"
      ]
     },
     "execution_count": 4,
     "metadata": {},
     "output_type": "execute_result"
    }
   ],
   "execution_count": 4
  },
  {
   "metadata": {
    "ExecuteTime": {
     "end_time": "2024-12-11T08:57:57.661767Z",
     "start_time": "2024-12-11T08:57:57.508477Z"
    }
   },
   "cell_type": "code",
   "source": [
    "fun blink(stones: List<Long>): List<Long> =\n",
    "    stones.fold(mutableListOf<Long>()) { acc, stone ->\n",
    "        when {\n",
    "            stone == 0L -> acc.add(1L)\n",
    "            stone.toString().length % 2 == 0 -> {\n",
    "                val str = stone.toString()\n",
    "                acc.add(str.substring(0..<str.length/2).toLong())\n",
    "                acc.add(str.substring(str.length/2..<str.length).toLong())\n",
    "            }\n",
    "            else -> acc.add(stone * 2024)\n",
    "        }\n",
    "        acc\n",
    "    }"
   ],
   "outputs": [],
   "execution_count": 5
  },
  {
   "metadata": {
    "ExecuteTime": {
     "end_time": "2024-12-11T08:57:59.597892Z",
     "start_time": "2024-12-11T08:57:59.531073Z"
    }
   },
   "cell_type": "code",
   "source": [
    "val test = \"125 17\".split(\" \").map { it.toLong() }\n",
    "var testResult = test\n",
    "repeat(6) {\n",
    "    testResult = blink(testResult)\n",
    "}\n",
    "testResult"
   ],
   "outputs": [
    {
     "data": {
      "text/plain": [
       "[2097446912, 14168, 4048, 2, 0, 2, 4, 40, 48, 2024, 40, 48, 80, 96, 2, 8, 6, 7, 6, 0, 3, 2]"
      ]
     },
     "execution_count": 6,
     "metadata": {},
     "output_type": "execute_result"
    }
   ],
   "execution_count": 6
  },
  {
   "metadata": {
    "ExecuteTime": {
     "end_time": "2024-12-11T08:58:04.770790Z",
     "start_time": "2024-12-11T08:58:04.684671Z"
    }
   },
   "cell_type": "code",
   "source": [
    "var result = input\n",
    "repeat(25) {\n",
    "    result = blink(result)\n",
    "}\n",
    "result.size"
   ],
   "outputs": [
    {
     "data": {
      "text/plain": [
       "203953"
      ]
     },
     "execution_count": 7,
     "metadata": {},
     "output_type": "execute_result"
    }
   ],
   "execution_count": 7
  },
  {
   "metadata": {
    "ExecuteTime": {
     "end_time": "2024-12-11T08:58:08.264277Z",
     "start_time": "2024-12-11T08:58:07.632786Z"
    }
   },
   "cell_type": "code",
   "source": "aoc.submitPartOne(203953)",
   "outputs": [
    {
     "data": {
      "text/html": [
       "<p>The answer is correct!</p><p>Your answer: 203953</p><small>You already completed this part.</small>"
      ]
     },
     "execution_count": 8,
     "metadata": {},
     "output_type": "execute_result"
    }
   ],
   "execution_count": 8
  },
  {
   "metadata": {
    "ExecuteTime": {
     "end_time": "2024-12-11T09:11:38.318258Z",
     "start_time": "2024-12-11T09:11:38.170697Z"
    }
   },
   "cell_type": "code",
   "source": [
    "fun blink(stone: Long): List<Long> = when {\n",
    "    stone == 0L -> listOf(1L)\n",
    "    stone.toString().length % 2 == 0 -> {\n",
    "        val str = stone.toString()\n",
    "        listOf(str.take(str.length/2).toLong(), str.drop(str.length/2).toLong())\n",
    "    }\n",
    "    else -> listOf(stone * 2024)\n",
    "}\n",
    "\n",
    "data class CacheKey(val stone: Long, val count: Int, val target: Int)\n",
    "val cache = mutableMapOf<CacheKey, Long>()\n",
    "\n",
    "fun count(stone: Long, count: Int, target: Int): Long = cache.getOrPut(CacheKey(stone, count, target)) {\n",
    "    if (count == target) 1\n",
    "    else blink(stone).sumOf { count(it, count + 1, target) }\n",
    "}"
   ],
   "outputs": [],
   "execution_count": 14
  },
  {
   "metadata": {
    "ExecuteTime": {
     "end_time": "2024-12-11T09:11:39.859662Z",
     "start_time": "2024-12-11T09:11:39.817527Z"
    }
   },
   "cell_type": "code",
   "source": [
    "val result1 = input.sumOf { count(it, 0, 25) }\n",
    "result1"
   ],
   "outputs": [
    {
     "data": {
      "text/plain": [
       "203953"
      ]
     },
     "execution_count": 15,
     "metadata": {},
     "output_type": "execute_result"
    }
   ],
   "execution_count": 15
  },
  {
   "metadata": {
    "ExecuteTime": {
     "end_time": "2024-12-11T09:11:41.459369Z",
     "start_time": "2024-12-11T09:11:41.381919Z"
    }
   },
   "cell_type": "code",
   "source": [
    "val result2 = input.sumOf { count(it, 0, 75) }\n",
    "result2"
   ],
   "outputs": [
    {
     "data": {
      "text/plain": [
       "242090118578155"
      ]
     },
     "execution_count": 16,
     "metadata": {},
     "output_type": "execute_result"
    }
   ],
   "execution_count": 16
  },
  {
   "metadata": {
    "ExecuteTime": {
     "end_time": "2024-12-11T09:11:54.925431Z",
     "start_time": "2024-12-11T09:11:54.527928Z"
    }
   },
   "cell_type": "code",
   "source": "aoc.submitPartTwo(result2)",
   "outputs": [
    {
     "data": {
      "text/html": [
       "        <div>\n",
       "            <p>Your answer: 242090118578155.</p>\n",
       "            <p>That's the right answer! You are <span class=\"day-success\">one gold star</span> closer to finding the Chief Historian.</p>\n",
       "<p>You have completed Day 11! You can <span class=\"share\">[Share<span class=\"share-content\">on <a href=\"https://bsky.app/intent/compose?text=I+just+completed+%22Plutonian+Pebbles%22+%2D+Day+11+%2D+Advent+of+Code+2024+%23AdventOfCode+https%3A%2F%2Fadventofcode%2Ecom%2F2024%2Fday%2F11\" target=\"_blank\">Bluesky</a> <a href=\"https://twitter.com/intent/tweet?text=I+just+completed+%22Plutonian+Pebbles%22+%2D+Day+11+%2D+Advent+of+Code+2024&amp;url=https%3A%2F%2Fadventofcode%2Ecom%2F2024%2Fday%2F11&amp;related=ericwastl&amp;hashtags=AdventOfCode\" target=\"_blank\">Twitter</a> <a href=\"javascript:void(0);\" onclick=\"var ms; try{ms=localStorage.getItem('mastodon.server')}finally{} if(typeof ms!=='string')ms=''; ms=prompt('Mastodon Server?',ms); if(typeof ms==='string' &amp;&amp; ms.length){this.href='https://'+ms+'/share?text=I+just+completed+%22Plutonian+Pebbles%22+%2D+Day+11+%2D+Advent+of+Code+2024+%23AdventOfCode+https%3A%2F%2Fadventofcode%2Ecom%2F2024%2Fday%2F11';try{localStorage.setItem('mastodon.server',ms);}finally{}}else{return false;}\" target=\"_blank\">Mastodon</a></span>]</span> this victory or <a href=\"/2024\">[Return to Your Advent Calendar]</a>.</p>\n",
       "        </div>"
      ]
     },
     "execution_count": 17,
     "metadata": {},
     "output_type": "execute_result"
    }
   ],
   "execution_count": 17
  }
 ],
 "metadata": {
  "kernelspec": {
   "display_name": "Kotlin",
   "language": "kotlin",
   "name": "kotlin"
  },
  "language_info": {
   "name": "kotlin",
   "version": "1.9.23",
   "mimetype": "text/x-kotlin",
   "file_extension": ".kt",
   "pygments_lexer": "kotlin",
   "codemirror_mode": "text/x-kotlin",
   "nbconvert_exporter": ""
  }
 },
 "nbformat": 4,
 "nbformat_minor": 0
}
