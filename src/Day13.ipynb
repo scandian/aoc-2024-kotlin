{
 "cells": [
  {
   "cell_type": "code",
   "metadata": {
    "collapsed": true
   },
   "source": [
    "%use adventOfCode\n",
    "\n",
    "import com.toldoven.aoc.notebook.AocClient\n",
    "val aoc = AocClient.fromFile().interactiveDay(2024, 13)"
   ],
   "outputs": [],
   "execution_count": null
  },
  {
   "metadata": {
    "ExecuteTime": {
     "end_time": "2024-12-13T07:42:26.222567Z",
     "start_time": "2024-12-13T07:42:26.190656Z"
    }
   },
   "cell_type": "code",
   "source": "val input = aoc.input()",
   "outputs": [],
   "execution_count": 3
  },
  {
   "metadata": {
    "ExecuteTime": {
     "end_time": "2024-12-13T07:51:39.457592Z",
     "start_time": "2024-12-13T07:51:39.431763Z"
    }
   },
   "cell_type": "code",
   "source": [
    "val testInput = \"\"\"\n",
    "                    Button A: X+94, Y+34\n",
    "                    Button B: X+22, Y+67\n",
    "                    Prize: X=8400, Y=5400\n",
    "\n",
    "                    Button A: X+26, Y+66\n",
    "                    Button B: X+67, Y+21\n",
    "                    Prize: X=12748, Y=12176\n",
    "\n",
    "                    Button A: X+17, Y+86\n",
    "                    Button B: X+84, Y+37\n",
    "                    Prize: X=7870, Y=6450\n",
    "\n",
    "                    Button A: X+69, Y+23\n",
    "                    Button B: X+27, Y+71\n",
    "                    Prize: X=18641, Y=10279\n",
    "                    \"\"\".trimIndent()"
   ],
   "outputs": [],
   "execution_count": 5
  },
  {
   "metadata": {
    "ExecuteTime": {
     "end_time": "2024-12-13T10:49:44.259406Z",
     "start_time": "2024-12-13T10:49:44.205778Z"
    }
   },
   "cell_type": "code",
   "source": [
    "data class Vec2(val x: Int, val y: Int) {\n",
    "    infix operator fun plus(o: Vec2) = Vec2(x+o.x, y+o.y)\n",
    "}\n",
    "infix operator fun Int.times(point: Vec2) = Vec2(this*point.x, this*point.y)\n",
    "fun Pair<Int, Int>.toVec2() = Vec2(this.first, this.second)\n",
    "data class Machine(val a: Vec2, val b: Vec2, val prize: Vec2)"
   ],
   "outputs": [],
   "execution_count": 32
  },
  {
   "metadata": {
    "ExecuteTime": {
     "end_time": "2024-12-13T10:49:49.571343Z",
     "start_time": "2024-12-13T10:49:49.414305Z"
    }
   },
   "cell_type": "code",
   "source": [
    "val regex = \"\"\"\\bX[+=](?<X>\\d+), Y[+=](?<Y>\\d+)\\b\"\"\".toRegex()\n",
    "\n",
    "fun String.parse(): List<Machine> = buildList {\n",
    "    this@parse.split(\"\\n\\n\").map { section ->\n",
    "        val points: List<Pair<Int, Int>> = section.lines().map { line ->\n",
    "            val (x, y) = regex.find(line)?.destructured ?: error(\"No match\")\n",
    "            Pair(x.toInt(), y.toInt())\n",
    "        }\n",
    "        add(Machine(points[0].toVec2(), points[1].toVec2(), points[2].toVec2()))\n",
    "    }\n",
    "}\n",
    "\n",
    "sealed class ResultOf<out T> {\n",
    "    data class Success<out R>(val value: R): ResultOf<R>()\n",
    "    data class Failure(val message: String? = null): ResultOf<Nothing>()\n",
    "}\n",
    "\n",
    "fun Machine.solve(): ResultOf<Int> {\n",
    "    val scalarRange = 0..100\n",
    "\n",
    "    val solutions = mutableMapOf<Pair<Int, Int>, Int>()\n",
    "\n",
    "    for (A in scalarRange)\n",
    "        for (B in scalarRange) {\n",
    "            if ((A*a) + (B*b) == prize)\n",
    "                solutions.put(A to B, A*3 + B)\n",
    "        }\n",
    "\n",
    "    return if (solutions.isNotEmpty()) {\n",
    "        val solution = solutions.minBy { it.value }\n",
    "        ResultOf.Success(solution.value)\n",
    "    } else {\n",
    "        ResultOf.Failure(\"Not implemented yet\")\n",
    "    }\n",
    "\n",
    "}"
   ],
   "outputs": [],
   "execution_count": 33
  },
  {
   "metadata": {
    "ExecuteTime": {
     "end_time": "2024-12-13T10:49:54.957030Z",
     "start_time": "2024-12-13T10:49:54.908883Z"
    }
   },
   "cell_type": "code",
   "source": [
    "fun List<Machine>.solve(): Int = this.map { it.solve() }.mapNotNull { result ->\n",
    "    when (result) {\n",
    "        is ResultOf.Success<Int> -> result.value\n",
    "        is ResultOf.Failure -> null\n",
    "    }\n",
    "}.sum()"
   ],
   "outputs": [],
   "execution_count": 34
  },
  {
   "metadata": {
    "ExecuteTime": {
     "end_time": "2024-12-13T10:49:56.957941Z",
     "start_time": "2024-12-13T10:49:56.928933Z"
    }
   },
   "cell_type": "code",
   "source": [
    "val testMachines = testInput.parse()\n",
    "testMachines"
   ],
   "outputs": [
    {
     "data": {
      "text/plain": [
       "[Machine(a=Vec2(x=94, y=34), b=Vec2(x=22, y=67), prize=Vec2(x=8400, y=5400)), Machine(a=Vec2(x=26, y=66), b=Vec2(x=67, y=21), prize=Vec2(x=12748, y=12176)), Machine(a=Vec2(x=17, y=86), b=Vec2(x=84, y=37), prize=Vec2(x=7870, y=6450)), Machine(a=Vec2(x=69, y=23), b=Vec2(x=27, y=71), prize=Vec2(x=18641, y=10279))]"
      ]
     },
     "execution_count": 35,
     "metadata": {},
     "output_type": "execute_result"
    }
   ],
   "execution_count": 35
  },
  {
   "metadata": {
    "ExecuteTime": {
     "end_time": "2024-12-13T10:50:00.065816Z",
     "start_time": "2024-12-13T10:50:00.032575Z"
    }
   },
   "cell_type": "code",
   "source": [
    "val test = testMachines.solve()\n",
    "test"
   ],
   "outputs": [
    {
     "data": {
      "text/plain": [
       "480"
      ]
     },
     "execution_count": 36,
     "metadata": {},
     "output_type": "execute_result"
    }
   ],
   "execution_count": 36
  },
  {
   "metadata": {
    "ExecuteTime": {
     "end_time": "2024-12-13T10:51:18.630111Z",
     "start_time": "2024-12-13T10:51:18.596222Z"
    }
   },
   "cell_type": "code",
   "source": [
    "val machines = input.parse()\n",
    "val part1 = machines.solve()\n",
    "part1"
   ],
   "outputs": [
    {
     "data": {
      "text/plain": [
       "36870"
      ]
     },
     "execution_count": 38,
     "metadata": {},
     "output_type": "execute_result"
    }
   ],
   "execution_count": 38
  },
  {
   "metadata": {
    "ExecuteTime": {
     "end_time": "2024-12-13T10:51:28.797846Z",
     "start_time": "2024-12-13T10:51:28.340428Z"
    }
   },
   "cell_type": "code",
   "source": "aoc.submitPartOne(part1)",
   "outputs": [
    {
     "data": {
      "text/html": [
       "<div>\n",
       "    <p>Your answer: 36870.</p>\n",
       "    <p>That's the right answer! You are <span class=\"day-success\">one gold star</span> closer to finding the Chief Historian. <a href=\"/2024/day/13#part2\">[Continue to Part Two]</a></p>\n",
       "</div>"
      ]
     },
     "execution_count": 39,
     "metadata": {},
     "output_type": "execute_result"
    }
   ],
   "execution_count": 39
  }
 ],
 "metadata": {
  "kernelspec": {
   "display_name": "Kotlin",
   "language": "kotlin",
   "name": "kotlin"
  },
  "language_info": {
   "name": "kotlin",
   "version": "1.9.23",
   "mimetype": "text/x-kotlin",
   "file_extension": ".kt",
   "pygments_lexer": "kotlin",
   "codemirror_mode": "text/x-kotlin",
   "nbconvert_exporter": ""
  }
 },
 "nbformat": 4,
 "nbformat_minor": 0
}
