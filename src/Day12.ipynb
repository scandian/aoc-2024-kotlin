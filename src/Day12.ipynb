{
 "cells": [
  {
   "metadata": {
    "ExecuteTime": {
     "end_time": "2024-12-12T21:34:07.800857Z",
     "start_time": "2024-12-12T21:34:07.599883Z"
    }
   },
   "cell_type": "code",
   "source": [
    "%use adventOfCode\n",
    "import com.toldoven.aoc.notebook.AocClient\n",
    "val aoc = AocClient.fromFile().interactiveDay(2024, 12)"
   ],
   "outputs": [],
   "execution_count": 39
  },
  {
   "metadata": {
    "ExecuteTime": {
     "end_time": "2024-12-12T21:34:09.160631Z",
     "start_time": "2024-12-12T21:34:09.139311Z"
    }
   },
   "cell_type": "code",
   "source": [
    "val exampleInput = \"\"\"\n",
    "                    RRRRIICCFF\n",
    "                    RRRRIICCCF\n",
    "                    VVRRRCCFFF\n",
    "                    VVRCCCJFFF\n",
    "                    VVVVCJJCFE\n",
    "                    VVIVCCJJEE\n",
    "                    VVIIICJJEE\n",
    "                    MIIIIIJJEE\n",
    "                    MIIISIJEEE\n",
    "                    MMMISSJEEE\n",
    "                    \"\"\".trimIndent()"
   ],
   "outputs": [],
   "execution_count": 40
  },
  {
   "metadata": {
    "ExecuteTime": {
     "end_time": "2024-12-12T21:34:09.942360Z",
     "start_time": "2024-12-12T21:34:09.852367Z"
    }
   },
   "cell_type": "code",
   "source": [
    "enum class Direction(val x: Int, val y: Int) {\n",
    "    UP(0, -1), RIGHT(1, 0), DOWN(0, 1), LEFT(-1, 0);\n",
    "\n",
    "    fun turnRight() = entries[ordinal.inc() % entries.size]\n",
    "}\n",
    "\n",
    "data class Vec2(val x: Int, val y: Int) {\n",
    "    fun move(d: Direction) = Vec2(x + d.x, y + d.y)\n",
    "    fun neighbours() = Direction.entries.map { dir -> move(dir) to dir }\n",
    "}\n",
    "\n",
    "class Grid(private val data: List<String>) {\n",
    "    val rangeX = 0..data[0].lastIndex\n",
    "    val rangeY = 0..data.lastIndex\n",
    "    val points = rangeY.flatMap { y -> rangeX.map { x -> Vec2(x, y) } }\n",
    "\n",
    "    operator fun contains(p: Vec2) = p.x in rangeX && p.y in rangeY\n",
    "    operator fun get(p: Vec2) = if (p in this) data[p.y][p.x] else error(\"Not a valid grid position\")\n",
    "}"
   ],
   "outputs": [],
   "execution_count": 41
  },
  {
   "metadata": {
    "ExecuteTime": {
     "end_time": "2024-12-12T21:34:10.494148Z",
     "start_time": "2024-12-12T21:34:10.391165Z"
    }
   },
   "cell_type": "code",
   "source": [
    "data class Region(val plots: Set<Vec2>) {\n",
    "    val area = plots.size\n",
    "    val perimeter: Set<Pair<Vec2, Direction>> = plots.flatMap { plot -> plot.neighbours().filterNot { (pos, _) -> pos in plots } }.toSet()\n",
    "    val perimeterLength: Int = perimeter.size\n",
    "    val price: Int = area * perimeterLength\n",
    "    val sides = perimeter.filterNot { (pos, dir) -> (pos.move(dir.turnRight()) to dir) in perimeter }.toSet().size\n",
    "    val discountedPrice = area * sides\n",
    "}\n",
    "\n",
    "fun getRegions(grid: Grid): List<Region> {\n",
    "\n",
    "    fun findRegions(plots: List<Vec2>) = buildList<Region> {\n",
    "        val unmappedPlots = plots.toMutableSet()\n",
    "        while (unmappedPlots.isNotEmpty()) add(Region(buildSet<Vec2> {\n",
    "            val neighboursToCheck = ArrayDeque<Vec2>()\n",
    "            neighboursToCheck.add(unmappedPlots.first().also { unmappedPlots.remove(it) })\n",
    "            while (neighboursToCheck.isNotEmpty()) {\n",
    "                val nextPlot = neighboursToCheck.removeFirst()\n",
    "                add(nextPlot)\n",
    "                nextPlot.neighbours().filter { (pos, _) -> pos in unmappedPlots }.forEach { (pos, _) -> pos\n",
    "                    unmappedPlots.remove(pos)\n",
    "                    neighboursToCheck.add(pos)\n",
    "                }\n",
    "            }\n",
    "        }))\n",
    "    }\n",
    "\n",
    "    val plotsByType = grid.points.groupBy { grid[it] }.values\n",
    "\n",
    "    return plotsByType.flatMap { findRegions(it) }\n",
    "}"
   ],
   "outputs": [],
   "execution_count": 42
  },
  {
   "metadata": {
    "ExecuteTime": {
     "end_time": "2024-12-12T21:34:11.555450Z",
     "start_time": "2024-12-12T21:34:11.517523Z"
    }
   },
   "cell_type": "code",
   "source": [
    "val exampleGrid = Grid(exampleInput.lines())\n",
    "val exampleRegions = getRegions(exampleGrid)\n",
    "exampleRegions.forEach {\n",
    "    println(\"${it.plots.firstOrNull()?.let {exampleGrid[it]}} | ${it.area} * ${it.perimeterLength} = ${it.price}\")\n",
    "}"
   ],
   "outputs": [
    {
     "name": "stdout",
     "output_type": "stream",
     "text": [
      "R | 12 * 18 = 216\n",
      "I | 4 * 8 = 32\n",
      "I | 14 * 22 = 308\n",
      "C | 14 * 28 = 392\n",
      "C | 1 * 4 = 4\n",
      "F | 10 * 18 = 180\n",
      "V | 13 * 20 = 260\n",
      "J | 11 * 20 = 220\n",
      "E | 13 * 18 = 234\n",
      "M | 5 * 12 = 60\n",
      "S | 3 * 8 = 24\n"
     ]
    }
   ],
   "execution_count": 43
  },
  {
   "metadata": {
    "ExecuteTime": {
     "end_time": "2024-12-12T21:34:14.573299Z",
     "start_time": "2024-12-12T21:34:14.543029Z"
    }
   },
   "cell_type": "code",
   "source": "exampleRegions.sumOf { it.price }",
   "outputs": [
    {
     "data": {
      "text/plain": [
       "1930"
      ]
     },
     "execution_count": 44,
     "metadata": {},
     "output_type": "execute_result"
    }
   ],
   "execution_count": 44
  },
  {
   "metadata": {
    "ExecuteTime": {
     "end_time": "2024-12-12T21:35:27.277330Z",
     "start_time": "2024-12-12T21:35:27.246377Z"
    }
   },
   "cell_type": "code",
   "source": [
    "exampleRegions.forEach {\n",
    "    println(\"${exampleGrid[it.plots.first()]} | ${it.area} * ${it.sides} = ${it.discountedPrice}\")\n",
    "}"
   ],
   "outputs": [
    {
     "name": "stdout",
     "output_type": "stream",
     "text": [
      "R | 12 * 10 = 120\n",
      "I | 4 * 4 = 16\n",
      "I | 14 * 16 = 224\n",
      "C | 14 * 22 = 308\n",
      "C | 1 * 4 = 4\n",
      "F | 10 * 12 = 120\n",
      "V | 13 * 10 = 130\n",
      "J | 11 * 12 = 132\n",
      "E | 13 * 8 = 104\n",
      "M | 5 * 6 = 30\n",
      "S | 3 * 6 = 18\n"
     ]
    }
   ],
   "execution_count": 46
  },
  {
   "metadata": {
    "ExecuteTime": {
     "end_time": "2024-12-12T21:36:57.144222Z",
     "start_time": "2024-12-12T21:36:57.115496Z"
    }
   },
   "cell_type": "code",
   "source": "exampleRegions.sumOf { it.discountedPrice }",
   "outputs": [
    {
     "data": {
      "text/plain": [
       "1206"
      ]
     },
     "execution_count": 48,
     "metadata": {},
     "output_type": "execute_result"
    }
   ],
   "execution_count": 48
  },
  {
   "metadata": {
    "ExecuteTime": {
     "end_time": "2024-12-12T21:36:58.348752Z",
     "start_time": "2024-12-12T21:36:58.299059Z"
    }
   },
   "cell_type": "code",
   "source": [
    "val grid = Grid(aoc.input().lines())\n",
    "val regions = getRegions(grid)"
   ],
   "outputs": [],
   "execution_count": 49
  },
  {
   "metadata": {
    "ExecuteTime": {
     "end_time": "2024-12-12T21:37:00.051381Z",
     "start_time": "2024-12-12T21:37:00.021688Z"
    }
   },
   "cell_type": "code",
   "source": [
    "val part1 = regions.sumOf { it.price }\n",
    "part1"
   ],
   "outputs": [
    {
     "data": {
      "text/plain": [
       "1486324"
      ]
     },
     "execution_count": 50,
     "metadata": {},
     "output_type": "execute_result"
    }
   ],
   "execution_count": 50
  },
  {
   "metadata": {
    "ExecuteTime": {
     "end_time": "2024-12-12T21:37:02.806212Z",
     "start_time": "2024-12-12T21:37:01.972493Z"
    }
   },
   "cell_type": "code",
   "source": "aoc.submitPartOne(part1)",
   "outputs": [
    {
     "data": {
      "text/html": [
       "<p>The answer is correct!</p><p>Your answer: 1486324</p><small>You already completed this part.</small>"
      ]
     },
     "execution_count": 51,
     "metadata": {},
     "output_type": "execute_result"
    }
   ],
   "execution_count": 51
  },
  {
   "metadata": {
    "ExecuteTime": {
     "end_time": "2024-12-12T21:37:04.281813Z",
     "start_time": "2024-12-12T21:37:04.258770Z"
    }
   },
   "cell_type": "code",
   "source": [
    "val part2 = regions.sumOf { it.discountedPrice }\n",
    "part2"
   ],
   "outputs": [
    {
     "data": {
      "text/plain": [
       "898684"
      ]
     },
     "execution_count": 52,
     "metadata": {},
     "output_type": "execute_result"
    }
   ],
   "execution_count": 52
  },
  {
   "metadata": {
    "ExecuteTime": {
     "end_time": "2024-12-12T21:37:15.727319Z",
     "start_time": "2024-12-12T21:37:15.313595Z"
    }
   },
   "cell_type": "code",
   "source": "aoc.submitPartTwo(part2)",
   "outputs": [
    {
     "data": {
      "text/html": [
       "        <div>\n",
       "            <p>Your answer: 898684.</p>\n",
       "            <p>That's the right answer! You are <span class=\"day-success\">one gold star</span> closer to finding the Chief Historian.</p>\n",
       "<p>You have completed Day 12! You can <span class=\"share\">[Share<span class=\"share-content\">on <a href=\"https://bsky.app/intent/compose?text=I+just+completed+%22Garden+Groups%22+%2D+Day+12+%2D+Advent+of+Code+2024+%23AdventOfCode+https%3A%2F%2Fadventofcode%2Ecom%2F2024%2Fday%2F12\" target=\"_blank\">Bluesky</a> <a href=\"https://twitter.com/intent/tweet?text=I+just+completed+%22Garden+Groups%22+%2D+Day+12+%2D+Advent+of+Code+2024&amp;url=https%3A%2F%2Fadventofcode%2Ecom%2F2024%2Fday%2F12&amp;related=ericwastl&amp;hashtags=AdventOfCode\" target=\"_blank\">Twitter</a> <a href=\"javascript:void(0);\" onclick=\"var ms; try{ms=localStorage.getItem('mastodon.server')}finally{} if(typeof ms!=='string')ms=''; ms=prompt('Mastodon Server?',ms); if(typeof ms==='string' &amp;&amp; ms.length){this.href='https://'+ms+'/share?text=I+just+completed+%22Garden+Groups%22+%2D+Day+12+%2D+Advent+of+Code+2024+%23AdventOfCode+https%3A%2F%2Fadventofcode%2Ecom%2F2024%2Fday%2F12';try{localStorage.setItem('mastodon.server',ms);}finally{}}else{return false;}\" target=\"_blank\">Mastodon</a></span>]</span> this victory or <a href=\"/2024\">[Return to Your Advent Calendar]</a>.</p>\n",
       "        </div>"
      ]
     },
     "execution_count": 53,
     "metadata": {},
     "output_type": "execute_result"
    }
   ],
   "execution_count": 53
  }
 ],
 "metadata": {
  "kernelspec": {
   "display_name": "Kotlin",
   "language": "kotlin",
   "name": "kotlin"
  },
  "language_info": {
   "name": "kotlin",
   "version": "1.9.23",
   "mimetype": "text/x-kotlin",
   "file_extension": ".kt",
   "pygments_lexer": "kotlin",
   "codemirror_mode": "text/x-kotlin",
   "nbconvert_exporter": ""
  }
 },
 "nbformat": 4,
 "nbformat_minor": 0
}
