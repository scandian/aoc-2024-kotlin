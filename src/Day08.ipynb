{
 "cells": [
  {
   "cell_type": "code",
   "metadata": {
    "ExecuteTime": {
     "end_time": "2024-12-08T10:52:30.860493Z",
     "start_time": "2024-12-08T10:52:30.129153Z"
    }
   },
   "source": "@file:DependsOn(\"com.toldoven.aoc:aoc-kotlin-notebook:1.1.2\")",
   "outputs": [],
   "execution_count": 1
  },
  {
   "metadata": {
    "collapsed": true,
    "ExecuteTime": {
     "end_time": "2024-12-08T10:52:35.625955Z",
     "start_time": "2024-12-08T10:52:35.543971Z"
    }
   },
   "cell_type": "code",
   "source": [
    "import com.toldoven.aoc.notebook.AocClient\n",
    "\n",
    "val aoc = AocClient.fromFile().interactiveDay(2024, 8)"
   ],
   "outputs": [],
   "execution_count": 2
  },
  {
   "metadata": {
    "ExecuteTime": {
     "end_time": "2024-12-08T11:00:03.432264Z",
     "start_time": "2024-12-08T11:00:03.391544Z"
    }
   },
   "cell_type": "code",
   "source": [
    "val testInput = \"\"\"............\n",
    "........0...\n",
    ".....0......\n",
    ".......0....\n",
    "....0.......\n",
    "......A.....\n",
    "............\n",
    "............\n",
    "........A...\n",
    ".........A..\n",
    "............\n",
    "............\"\"\"\n",
    "val input = aoc.input().lines()\n",
    "//val input = testInput.lines()\n",
    "\n",
    "val xRange = 0..input[0].lastIndex\n",
    "val yRange = 0..input.lastIndex\n",
    "println(\"xRange: $xRange\")\n",
    "println(\"yRange: $yRange\")"
   ],
   "outputs": [
    {
     "name": "stdout",
     "output_type": "stream",
     "text": [
      "xRange: 0..49\n",
      "yRange: 0..49\n"
     ]
    }
   ],
   "execution_count": 19
  },
  {
   "metadata": {
    "ExecuteTime": {
     "end_time": "2024-12-08T11:00:05.515572Z",
     "start_time": "2024-12-08T11:00:05.441871Z"
    }
   },
   "cell_type": "code",
   "source": [
    "data class Vec2(val x: Int, val y: Int) {\n",
    "    operator infix fun plus(b: Vec2): Vec2 {\n",
    "        return Vec2(x + b.x, y + b.y)\n",
    "    }\n",
    "    operator infix fun minus(b: Vec2): Vec2 {\n",
    "        return Vec2(x - b.x, y - b.y)\n",
    "    }\n",
    "}\n",
    "\n",
    "fun inRange(point: Vec2): Boolean {\n",
    "    return point.x in xRange && point.y in yRange\n",
    "}\n",
    "\n",
    "val nodes: Map<Char, Set<Vec2>> = buildMap<Char, MutableSet<Vec2>> {\n",
    "    input.forEachIndexed() {  y, line ->\n",
    "        line.forEachIndexed { x, location ->\n",
    "            if (location != '.') {\n",
    "                getOrPut(location, { mutableSetOf() }).add(Vec2(x, y))\n",
    "            }\n",
    "        }\n",
    "    }\n",
    "}\n",
    "nodes"
   ],
   "outputs": [
    {
     "data": {
      "text/plain": [
       "{h=[Vec2(x=4, y=0), Vec2(x=33, y=4), Vec2(x=9, y=9), Vec2(x=20, y=15)], Q=[Vec2(x=10, y=0), Vec2(x=2, y=29)], Y=[Vec2(x=25, y=0), Vec2(x=31, y=1), Vec2(x=24, y=3), Vec2(x=36, y=4)], C=[Vec2(x=40, y=1), Vec2(x=47, y=10), Vec2(x=46, y=14), Vec2(x=41, y=15)], m=[Vec2(x=15, y=2), Vec2(x=12, y=7), Vec2(x=13, y=13), Vec2(x=14, y=14)], x=[Vec2(x=26, y=2), Vec2(x=25, y=12), Vec2(x=22, y=13), Vec2(x=27, y=21)], B=[Vec2(x=43, y=2), Vec2(x=40, y=3), Vec2(x=42, y=10), Vec2(x=37, y=13)], q=[Vec2(x=39, y=3), Vec2(x=42, y=4), Vec2(x=41, y=8), Vec2(x=8, y=15)], g=[Vec2(x=6, y=4), Vec2(x=8, y=7), Vec2(x=7, y=13)], 4=[Vec2(x=7, y=4), Vec2(x=9, y=11), Vec2(x=10, y=12)], c=[Vec2(x=46, y=4), Vec2(x=23, y=21), Vec2(x=28, y=27), Vec2(x=21, y=32)], n=[Vec2(x=16, y=5), Vec2(x=2, y=8), Vec2(x=13, y=9), Vec2(x=17, y=12)], R=[Vec2(x=22, y=5), Vec2(x=14, y=8), Vec2(x=31, y=10), Vec2(x=15, y=17)], w=[Vec2(x=39, y=6), Vec2(x=40, y=7), Vec2(x=28, y=12), Vec2(x=45, y=13)], 5=[Vec2(x=48, y=6), Vec2(x=41, y=7), Vec2(x=43, y=8), Vec2(x=42, y=11)], 1=[Vec2(x=16, y=8), Vec2(x=5, y=23), Vec2(x=11, y=24), Vec2(x=22, y=27)], W=[Vec2(x=33, y=8), Vec2(x=31, y=13), Vec2(x=30, y=18), Vec2(x=48, y=25)], e=[Vec2(x=31, y=9), Vec2(x=44, y=11), Vec2(x=39, y=24), Vec2(x=34, y=38)], 0=[Vec2(x=7, y=12), Vec2(x=12, y=15), Vec2(x=9, y=25), Vec2(x=10, y=26)], b=[Vec2(x=25, y=13), Vec2(x=3, y=26), Vec2(x=6, y=28), Vec2(x=8, y=29)], 3=[Vec2(x=39, y=14), Vec2(x=43, y=15), Vec2(x=18, y=16), Vec2(x=26, y=17)], D=[Vec2(x=40, y=16), Vec2(x=37, y=41), Vec2(x=38, y=43), Vec2(x=33, y=46)], X=[Vec2(x=40, y=17), Vec2(x=45, y=20), Vec2(x=43, y=37)], k=[Vec2(x=43, y=18), Vec2(x=17, y=39), Vec2(x=26, y=41), Vec2(x=12, y=42)], 2=[Vec2(x=44, y=18), Vec2(x=39, y=19), Vec2(x=49, y=20), Vec2(x=38, y=25)], 7=[Vec2(x=10, y=19), Vec2(x=11, y=25), Vec2(x=3, y=30)], A=[Vec2(x=15, y=20), Vec2(x=16, y=26), Vec2(x=35, y=29), Vec2(x=8, y=31)], d=[Vec2(x=36, y=22), Vec2(x=28, y=23), Vec2(x=37, y=31), Vec2(x=39, y=42)], K=[Vec2(x=12, y=25), Vec2(x=22, y=42), Vec2(x=25, y=44), Vec2(x=33, y=45)], i=[Vec2(x=27, y=27), Vec2(x=29, y=28), Vec2(x=24, y=37), Vec2(x=18, y=38)], E=[Vec2(x=38, y=29), Vec2(x=42, y=32), Vec2(x=45, y=33), Vec2(x=31, y=42)], V=[Vec2(x=29, y=30), Vec2(x=30, y=33), Vec2(x=33, y=35), Vec2(x=40, y=40)], v=[Vec2(x=30, y=31), Vec2(x=8, y=32), Vec2(x=1, y=40), Vec2(x=9, y=41)], 8=[Vec2(x=41, y=32), Vec2(x=39, y=33), Vec2(x=34, y=36), Vec2(x=44, y=39)], N=[Vec2(x=48, y=33), Vec2(x=47, y=38), Vec2(x=40, y=44), Vec2(x=37, y=49)], 6=[Vec2(x=22, y=34), Vec2(x=28, y=39), Vec2(x=23, y=40), Vec2(x=33, y=43)], I=[Vec2(x=7, y=35), Vec2(x=25, y=46)], M=[Vec2(x=12, y=35), Vec2(x=17, y=43), Vec2(x=16, y=44), Vec2(x=15, y=46)], G=[Vec2(x=3, y=36), Vec2(x=18, y=43), Vec2(x=12, y=44), Vec2(x=7, y=45)], a=[Vec2(x=26, y=36), Vec2(x=20, y=37), Vec2(x=17, y=41), Vec2(x=1, y=42)], r=[Vec2(x=9, y=37), Vec2(x=15, y=38), Vec2(x=4, y=48)], 9=[Vec2(x=11, y=37), Vec2(x=22, y=39), Vec2(x=23, y=44), Vec2(x=26, y=48)], H=[Vec2(x=5, y=39), Vec2(x=0, y=42), Vec2(x=9, y=44)], y=[Vec2(x=15, y=43), Vec2(x=9, y=48), Vec2(x=4, y=49)]}"
      ]
     },
     "execution_count": 20,
     "metadata": {},
     "output_type": "execute_result"
    }
   ],
   "execution_count": 20
  },
  {
   "metadata": {
    "ExecuteTime": {
     "end_time": "2024-12-08T11:00:08.226205Z",
     "start_time": "2024-12-08T11:00:08.174977Z"
    }
   },
   "cell_type": "code",
   "source": [
    "fun calcAntiNodes(nodes: Set<Vec2>): Set<Vec2> {\n",
    "    return buildSet {\n",
    "        if (nodes.size == 2) {\n",
    "            val vecAB = nodes.last() - nodes.first()\n",
    "            val antiA = nodes.first() - vecAB\n",
    "            val antiB = nodes.last() + vecAB\n",
    "            if (inRange(antiA)) this.add(antiA)\n",
    "            if (inRange(antiB)) this.add(antiB)\n",
    "        } else {\n",
    "            nodes.forEach { a ->\n",
    "                nodes.forEach { b ->\n",
    "                    if (a != b) {\n",
    "                        this.addAll(calcAntiNodes(setOf(a, b)))\n",
    "                    }\n",
    "                }\n",
    "            }\n",
    "        }\n",
    "    }\n",
    "}"
   ],
   "outputs": [],
   "execution_count": 21
  },
  {
   "metadata": {
    "ExecuteTime": {
     "end_time": "2024-12-08T11:00:10.361912Z",
     "start_time": "2024-12-08T11:00:10.294171Z"
    }
   },
   "cell_type": "code",
   "source": [
    "val antinodes: Map<Char, Set<Vec2>> = buildMap<Char, MutableSet<Vec2>> {\n",
    "    nodes.keys.filter { nodes[it]!!.size > 1 }.map {\n",
    "        getOrPut(it, { mutableSetOf() }).addAll(calcAntiNodes(nodes = nodes.getOrDefault(it, emptySet())))\n",
    "    }\n",
    "}\n",
    "val part1 = antinodes.flatMap {\n",
    "    it.value\n",
    "}.toSet().size\n",
    "part1"
   ],
   "outputs": [
    {
     "data": {
      "text/plain": [
       "256"
      ]
     },
     "execution_count": 22,
     "metadata": {},
     "output_type": "execute_result"
    }
   ],
   "execution_count": 22
  },
  {
   "metadata": {
    "ExecuteTime": {
     "end_time": "2024-12-08T11:00:12.606842Z",
     "start_time": "2024-12-08T11:00:12.505974Z"
    }
   },
   "cell_type": "code",
   "source": [
    "fun calcAntiNodes2(nodes: Set<Vec2>): Set<Vec2> {\n",
    "    return buildSet {\n",
    "        if (nodes.size == 2) {\n",
    "            val A = nodes.first()\n",
    "            val B = nodes.last()\n",
    "            val vecAB = B - A\n",
    "            val antiA = generateSequence(A) { (it - vecAB).takeIf { inRange(it) } }\n",
    "            val antiB = generateSequence(B) { (it + vecAB).takeIf { inRange(it) } }\n",
    "            this.addAll(antiA.toSet())\n",
    "            this.addAll(antiB.toSet())\n",
    "        } else {\n",
    "            nodes.forEach { a ->\n",
    "                nodes.forEach { b ->\n",
    "                    if (a != b) {\n",
    "                        this.addAll(calcAntiNodes2(setOf(a, b)))\n",
    "                    }\n",
    "                }\n",
    "            }\n",
    "        }\n",
    "    }\n",
    "}\n",
    "\n",
    "val antinodes2: Map<Char, Set<Vec2>> = buildMap<Char, MutableSet<Vec2>> {\n",
    "    nodes.keys.filter { nodes[it]!!.size > 1 }.map {\n",
    "        getOrPut(it, { mutableSetOf() }).addAll(calcAntiNodes2(nodes = nodes.getOrDefault(it, emptySet())))\n",
    "    }\n",
    "}\n",
    "\n",
    "antinodes2.flatMap { it.value }.toSet().size"
   ],
   "outputs": [
    {
     "data": {
      "text/plain": [
       "1005"
      ]
     },
     "execution_count": 23,
     "metadata": {},
     "output_type": "execute_result"
    }
   ],
   "execution_count": 23
  },
  {
   "metadata": {
    "ExecuteTime": {
     "end_time": "2024-12-08T11:00:17.134443Z",
     "start_time": "2024-12-08T11:00:16.415347Z"
    }
   },
   "cell_type": "code",
   "source": "aoc.submitPartTwo(1005)",
   "outputs": [
    {
     "data": {
      "text/html": [
       "        <div>\n",
       "            <p>Your answer: 1005.</p>\n",
       "            <p>That's the right answer! You are <span class=\"day-success\">one gold star</span> closer to finding the Chief Historian.</p>\n",
       "<p>You have completed Day 8! You can <span class=\"share\">[Share<span class=\"share-content\">on <a href=\"https://bsky.app/intent/compose?text=I+just+completed+%22Resonant+Collinearity%22+%2D+Day+8+%2D+Advent+of+Code+2024+%23AdventOfCode+https%3A%2F%2Fadventofcode%2Ecom%2F2024%2Fday%2F8\" target=\"_blank\">Bluesky</a> <a href=\"https://twitter.com/intent/tweet?text=I+just+completed+%22Resonant+Collinearity%22+%2D+Day+8+%2D+Advent+of+Code+2024&amp;url=https%3A%2F%2Fadventofcode%2Ecom%2F2024%2Fday%2F8&amp;related=ericwastl&amp;hashtags=AdventOfCode\" target=\"_blank\">Twitter</a> <a href=\"javascript:void(0);\" onclick=\"var ms; try{ms=localStorage.getItem('mastodon.server')}finally{} if(typeof ms!=='string')ms=''; ms=prompt('Mastodon Server?',ms); if(typeof ms==='string' &amp;&amp; ms.length){this.href='https://'+ms+'/share?text=I+just+completed+%22Resonant+Collinearity%22+%2D+Day+8+%2D+Advent+of+Code+2024+%23AdventOfCode+https%3A%2F%2Fadventofcode%2Ecom%2F2024%2Fday%2F8';try{localStorage.setItem('mastodon.server',ms);}finally{}}else{return false;}\" target=\"_blank\">Mastodon</a></span>]</span> this victory or <a href=\"/2024\">[Return to Your Advent Calendar]</a>.</p>\n",
       "        </div>"
      ]
     },
     "execution_count": 24,
     "metadata": {},
     "output_type": "execute_result"
    }
   ],
   "execution_count": 24
  }
 ],
 "metadata": {
  "kernelspec": {
   "display_name": "Kotlin",
   "language": "kotlin",
   "name": "kotlin"
  },
  "language_info": {
   "name": "kotlin",
   "version": "1.9.23",
   "mimetype": "text/x-kotlin",
   "file_extension": ".kt",
   "pygments_lexer": "kotlin",
   "codemirror_mode": "text/x-kotlin",
   "nbconvert_exporter": ""
  }
 },
 "nbformat": 4,
 "nbformat_minor": 0
}
